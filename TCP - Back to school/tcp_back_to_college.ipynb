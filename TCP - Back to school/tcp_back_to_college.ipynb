{
 "cells": [
  {
   "cell_type": "code",
   "execution_count": 1,
   "id": "22b6e28a-5dd6-483a-b87e-dcc776cb649a",
   "metadata": {
    "execution": {
     "iopub.execute_input": "2024-06-06T22:43:25.670111Z",
     "iopub.status.busy": "2024-06-06T22:43:25.668487Z",
     "iopub.status.idle": "2024-06-06T22:43:25.695921Z",
     "shell.execute_reply": "2024-06-06T22:43:25.694678Z",
     "shell.execute_reply.started": "2024-06-06T22:43:25.670026Z"
    }
   },
   "outputs": [],
   "source": [
    "import socket\n",
    "import math\n",
    "import re\n",
    "\n",
    "HOST = \"challenge01.root-me.org\"  # address (localhost)\n",
    "PORT = 52002  # Port "
   ]
  },
  {
   "cell_type": "code",
   "execution_count": null,
   "id": "d863e1ad-4741-4c33-8172-3d78e19f3b69",
   "metadata": {
    "execution": {
     "iopub.execute_input": "2024-06-06T22:43:25.704930Z",
     "iopub.status.busy": "2024-06-06T22:43:25.697630Z"
    }
   },
   "outputs": [
    {
     "name": "stdout",
     "output_type": "stream",
     "text": [
      "Connected to server.\n"
     ]
    }
   ],
   "source": [
    "with socket.socket(socket.AF_INET, socket.SOCK_STREAM) as s:\n",
    "    # Connect to server\n",
    "    s.connect((HOST, PORT))\n",
    "    print(\"Connected to server.\")\n",
    "\n",
    "    # Receive data\n",
    "    data = s.recv(1024)\n",
    "    calculation = data.decode(\"utf-8\")\n",
    "    print(f\"Received data :{calculation}\")\n",
    "\n",
    "    # Analyse\n",
    "    numbers = re.findall(r'\\d+', calculation)\n",
    "    num = list(map(float, numbers))\n",
    "    print(f\"Converted to floats: {num}\")\n",
    "\n",
    "    # Calcul\n",
    "    print(num[1], num[2])\n",
    "    result = round(math.sqrt(num[1]) * num[2], 2)\n",
    "    print(f\"Result: {result}\")\n",
    "\n",
    "    print(type(result))\n",
    "    \n",
    "    # Send result\n",
    "    s.sendall((str(result) + '\\n').encode(\"utf-8\"))\n",
    "    \n",
    "    print(f\"Result sent to Server: {result}\")\n",
    "    \n",
    "    # Receive response from server\n",
    "    response = s.recv(1024)\n",
    "    print(f\"Server response: {response.decode(\"utf-8\")}\")\n",
    "    \n",
    "    # Close Connection to server\n",
    "    s.close()"
   ]
  }
 ],
 "metadata": {
  "kernelspec": {
   "display_name": "Python 3 (ipykernel)",
   "language": "python",
   "name": "python3"
  },
  "language_info": {
   "codemirror_mode": {
    "name": "ipython",
    "version": 3
   },
   "file_extension": ".py",
   "mimetype": "text/x-python",
   "name": "python",
   "nbconvert_exporter": "python",
   "pygments_lexer": "ipython3",
   "version": "3.12.3"
  }
 },
 "nbformat": 4,
 "nbformat_minor": 5
}
