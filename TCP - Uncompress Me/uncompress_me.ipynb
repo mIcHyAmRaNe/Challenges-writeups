{
 "cells": [
  {
   "cell_type": "code",
   "execution_count": 1,
   "id": "100cee62-1558-4314-b4b1-264e1aba8bfd",
   "metadata": {
    "execution": {
     "iopub.execute_input": "2024-06-06T23:07:55.565499Z",
     "iopub.status.busy": "2024-06-06T23:07:55.564998Z",
     "iopub.status.idle": "2024-06-06T23:07:55.580675Z",
     "shell.execute_reply": "2024-06-06T23:07:55.576936Z",
     "shell.execute_reply.started": "2024-06-06T23:07:55.565461Z"
    }
   },
   "outputs": [],
   "source": [
    "import socket\n",
    "import re\n",
    "import base64\n",
    "import zlib\n",
    "\n",
    "HOST = \"challenge01.root-me.org\"  # address (localhost)\n",
    "PORT = 52022  # Port "
   ]
  },
  {
   "cell_type": "code",
   "execution_count": 4,
   "id": "2d0170c9-0b64-44f8-bf5c-75446707ea4d",
   "metadata": {
    "execution": {
     "iopub.execute_input": "2024-06-06T23:11:12.614087Z",
     "iopub.status.busy": "2024-06-06T23:11:12.613654Z",
     "iopub.status.idle": "2024-06-06T23:11:12.758327Z",
     "shell.execute_reply": "2024-06-06T23:11:12.756674Z",
     "shell.execute_reply.started": "2024-06-06T23:11:12.614055Z"
    }
   },
   "outputs": [
    {
     "name": "stdout",
     "output_type": "stream",
     "text": [
      "Connected to server.\n",
      "Received data :\n",
      "===============\n",
      " UNCOMPRESS ME\n",
      "===============\n",
      "Tell me the clear content of this string !\n",
      "\n",
      "my string is 'eJyLyA719kxKdkyxiEz0KvULSUoqCCgs8KsCAGeVCJc='. What is your answer ? \n",
      "Result sent to Server: XkUKIbcAd8YaJuNTbbpPqpNz\n",
      "Received data :my string is 'eJzzd67ysnAqNg43yzXKC08pNox0NA1ITnYMdixISwUAicwJZQ=='. What is your answer ? \n",
      "Result sent to Server: OCzJ8Bs3W6m2nWds1YA5PccASApfe\n",
      "Received data :my string is 'eJzzrjBOKc30ywkvjjBwS84HACscBV0='. What is your answer ? \n",
      "Result sent to Server: Kx3duiNlWsX0Fco\n",
      "Received data :my string is 'eJyzLPYLy0/y9PSvynV2qjB1NXMrcco2SawEAGTFCAw='. What is your answer ? \n",
      "Result sent to Server: 9sNVobIIOzmCBx5E6FtBk4ay\n",
      "Server response: [+] Good job ! Here is your flag: RM{Y0u_Succ3ssfuLly_UnComPr3SS_M3}\n",
      "\n"
     ]
    }
   ],
   "source": [
    "with socket.socket(socket.AF_INET, socket.SOCK_STREAM) as s:\n",
    "    s.connect((HOST, PORT))\n",
    "    print(\"Connected to server.\")\n",
    "    for i in range(4):\n",
    "        # Receive data\n",
    "        data = s.recv(1024)\n",
    "        rot13 = data.decode(\"utf-8\")\n",
    "        print(f\"Received data :{rot13}\")\n",
    "    \n",
    "        encrypted = re.findall(r\"'(.*?)'\", rot13)\n",
    "    \n",
    "        # base64 decryption\n",
    "        decrypted = base64.b64decode(encrypted[0])\n",
    "        # zlib decompression\n",
    "        decompressed = zlib.decompress(decrypted).decode('utf-8')\n",
    "    \n",
    "    \n",
    "        s.sendall((decompressed + '\\n').encode(\"utf-8\"))\n",
    "        print(f\"Result sent to Server: {decompressed}\")\n",
    "\n",
    "    response = s.recv(1024)\n",
    "    print(f\"Server response: {response.decode(\"utf-8\")}\")\n",
    "    "
   ]
  },
  {
   "cell_type": "code",
   "execution_count": null,
   "id": "bbf1278c-1a5e-44ba-885b-90e571a99e95",
   "metadata": {},
   "outputs": [],
   "source": []
  }
 ],
 "metadata": {
  "kernelspec": {
   "display_name": "Python 3 (ipykernel)",
   "language": "python",
   "name": "python3"
  },
  "language_info": {
   "codemirror_mode": {
    "name": "ipython",
    "version": 3
   },
   "file_extension": ".py",
   "mimetype": "text/x-python",
   "name": "python",
   "nbconvert_exporter": "python",
   "pygments_lexer": "ipython3",
   "version": "3.12.3"
  }
 },
 "nbformat": 4,
 "nbformat_minor": 5
}
