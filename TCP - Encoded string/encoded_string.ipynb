{
 "cells": [
  {
   "cell_type": "code",
   "execution_count": 1,
   "id": "f28c525a-edb4-4b40-80c8-99eb9f7c0423",
   "metadata": {
    "execution": {
     "iopub.execute_input": "2024-06-06T19:00:18.507423Z",
     "iopub.status.busy": "2024-06-06T19:00:18.505336Z",
     "iopub.status.idle": "2024-06-06T19:00:18.551147Z",
     "shell.execute_reply": "2024-06-06T19:00:18.535789Z",
     "shell.execute_reply.started": "2024-06-06T19:00:18.507346Z"
    }
   },
   "outputs": [],
   "source": [
    "import socket\n",
    "import base64\n",
    "import re\n",
    "\n",
    "HOST = \"challenge01.root-me.org\"  # address (localhost)\n",
    "PORT = 52023  # Port "
   ]
  },
  {
   "cell_type": "code",
   "execution_count": 2,
   "id": "e0166456-cf90-4904-9672-2560f5fb0a59",
   "metadata": {
    "execution": {
     "iopub.execute_input": "2024-06-06T19:00:18.560247Z",
     "iopub.status.busy": "2024-06-06T19:00:18.558872Z",
     "iopub.status.idle": "2024-06-06T19:00:18.663253Z",
     "shell.execute_reply": "2024-06-06T19:00:18.658823Z",
     "shell.execute_reply.started": "2024-06-06T19:00:18.560205Z"
    }
   },
   "outputs": [
    {
     "name": "stdout",
     "output_type": "stream",
     "text": [
      "Connected to the server\n",
      "'NGdTNDZzbGFjQ1ZpcnJjMmx5'.\n",
      "<class 'list'>\n",
      "<class 'str'>\n",
      "4gS46slacCVirrc2ly\n",
      "Result sent to Server: 4gS46slacCVirrc2ly\n",
      "Result sent to Server: 4gS46slacCVirrc2ly\n",
      "Result sent to Server: 4gS46slacCVirrc2ly\n",
      "Result sent to Server: 4gS46slacCVirrc2ly\n",
      "Result sent to Server: 4gS46slacCVirrc2ly\n",
      "Result sent to Server: 4gS46slacCVirrc2ly\n",
      "Result sent to Server: 4gS46slacCVirrc2ly\n",
      "Result sent to Server: 4gS46slacCVirrc2ly\n",
      "Result sent to Server: 4gS46slacCVirrc2ly\n",
      "Result sent to Server: 4gS46slacCVirrc2ly\n",
      "Server response: [+] Good job ! Here is your flag: RM{TCP_Enc0d3_4nd_D3c0d3}\n",
      "\n"
     ]
    }
   ],
   "source": [
    "with socket.socket(socket.AF_INET, socket.SOCK_STREAM) as s:\n",
    "    # Connect to server\n",
    "    s.connect((HOST, PORT))\n",
    "    print(\"Connected to the server\")\n",
    "\n",
    "    # Receive Data\n",
    "    data = s.recv(1024)\n",
    "    encrypted = data.decode(\"utf-8\").split()[16]\n",
    "    print(encrypted)\n",
    "    \n",
    "    encrypted = re.findall(r\"'(.*?)'\", encrypted)\n",
    "    print(type(encrypted)) # list\n",
    "    \n",
    "    decrypted = base64.b64decode(encrypted[0]).decode('utf-8')\n",
    "    print(type(decrypted)) # str\n",
    "    print(decrypted)\n",
    "    \n",
    "    s.sendall((decrypted + '\\n').encode(\"utf-8\"))\n",
    "    print(f\"Result sent to Server: {decrypted}\")\n",
    "\n",
    "    response = s.recv(1024)\n",
    "    print(f\"Server response: {response.decode('utf-8')}\")\n",
    "\n",
    "    # Close connection to server\n",
    "    s.close()"
   ]
  },
  {
   "cell_type": "code",
   "execution_count": null,
   "id": "c8ed5179-d084-46fb-93f3-ef6f1faba6f6",
   "metadata": {},
   "outputs": [],
   "source": []
  }
 ],
 "metadata": {
  "kernelspec": {
   "display_name": "Python 3 (ipykernel)",
   "language": "python",
   "name": "python3"
  },
  "language_info": {
   "codemirror_mode": {
    "name": "ipython",
    "version": 3
   },
   "file_extension": ".py",
   "mimetype": "text/x-python",
   "name": "python",
   "nbconvert_exporter": "python",
   "pygments_lexer": "ipython3",
   "version": "3.12.3"
  }
 },
 "nbformat": 4,
 "nbformat_minor": 5
}
