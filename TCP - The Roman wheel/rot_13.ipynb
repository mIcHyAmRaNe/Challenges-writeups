{
 "cells": [
  {
   "cell_type": "code",
   "execution_count": 1,
   "id": "04d5190e-13b4-4324-8578-c3d1ceba6347",
   "metadata": {
    "execution": {
     "iopub.execute_input": "2024-06-06T18:23:10.690563Z",
     "iopub.status.busy": "2024-06-06T18:23:10.689595Z",
     "iopub.status.idle": "2024-06-06T18:23:10.711641Z",
     "shell.execute_reply": "2024-06-06T18:23:10.704714Z",
     "shell.execute_reply.started": "2024-06-06T18:23:10.690503Z"
    }
   },
   "outputs": [],
   "source": [
    "import socket\n",
    "import re\n",
    "import codecs\n",
    "\n",
    "HOST = \"challenge01.root-me.org\"  # address (localhost)\n",
    "PORT = 52021  # Port "
   ]
  },
  {
   "cell_type": "code",
   "execution_count": 3,
   "id": "c2d00f7e-7c40-4e89-a685-0c2d98362d63",
   "metadata": {
    "execution": {
     "iopub.execute_input": "2024-06-06T18:28:25.997719Z",
     "iopub.status.busy": "2024-06-06T18:28:25.991785Z",
     "iopub.status.idle": "2024-06-06T18:28:26.121991Z",
     "shell.execute_reply": "2024-06-06T18:28:26.119160Z",
     "shell.execute_reply.started": "2024-06-06T18:28:25.997654Z"
    }
   },
   "outputs": [
    {
     "name": "stdout",
     "output_type": "stream",
     "text": [
      "Connected to server.\n",
      "Received data :\n",
      "=============\n",
      " ROMAN WHEEL\n",
      "=============\n",
      "Tell me the clear content of this string !\n",
      "\n",
      "my string is 'Ng1xnZUP7tUKe'. What is your answer ? \n",
      "At1kaMHC7gHXr\n",
      "Result sent to Server: At1kaMHC7gHXr\n",
      "Server response: [+] Good job ! Here is your flag: RM{TCP_R0man_Wh33l!!}\n",
      "\n"
     ]
    }
   ],
   "source": [
    "with socket.socket(socket.AF_INET, socket.SOCK_STREAM) as s:\n",
    "    s.connect((HOST, PORT))\n",
    "    print(\"Connected to server.\")\n",
    "\n",
    "    # Receive data\n",
    "    data = s.recv(1024)\n",
    "    rot13 = data.decode(\"utf-8\")\n",
    "    print(f\"Received data :{rot13}\")\n",
    "\n",
    "    encrypted = re.findall(r\"'(.*?)'\", rot13)\n",
    "    decrypted = codecs.decode(encrypted[0], 'rot_13')\n",
    "\n",
    "    s.sendall((decrypted + '\\n').encode(\"utf-8\"))\n",
    "    print(f\"Result sent to Server: {decrypted}\")\n",
    "\n",
    "    response = s.recv(1024)\n",
    "    print(f\"Server response: {response.decode(\"utf-8\")}\")"
   ]
  },
  {
   "cell_type": "code",
   "execution_count": null,
   "id": "747a7b8b-3e1d-4cf8-8e66-95f903afc729",
   "metadata": {},
   "outputs": [],
   "source": []
  }
 ],
 "metadata": {
  "kernelspec": {
   "display_name": "Python 3 (ipykernel)",
   "language": "python",
   "name": "python3"
  },
  "language_info": {
   "codemirror_mode": {
    "name": "ipython",
    "version": 3
   },
   "file_extension": ".py",
   "mimetype": "text/x-python",
   "name": "python",
   "nbconvert_exporter": "python",
   "pygments_lexer": "ipython3",
   "version": "3.12.3"
  }
 },
 "nbformat": 4,
 "nbformat_minor": 5
}
